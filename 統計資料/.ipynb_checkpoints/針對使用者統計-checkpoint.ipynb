{
 "cells": [
  {
   "cell_type": "code",
   "execution_count": 33,
   "metadata": {
    "collapsed": true
   },
   "outputs": [],
   "source": [
    "import openpyxl as px\n",
    "import numpy as np\n",
    "import pandas as pd\n",
    "import seaborn\n",
    "import matplotlib.pyplot as plt\n",
    "import datetime\n",
    "import xlsxwriter\n",
    "from collections import Counter\n",
    "from dateutil.relativedelta import relativedelta\n",
    "from matplotlib.font_manager import FontProperties\n",
    "font = FontProperties(fname=r\"/System/Library/Fonts/STHeiti Light.ttc\",size=12)\n",
    "read_content = pd.read_excel('blue(19000篇).xlsx')"
   ]
  },
  {
   "cell_type": "code",
   "execution_count": 50,
   "metadata": {
    "collapsed": false
   },
   "outputs": [
    {
     "name": "stderr",
     "output_type": "stream",
     "text": [
      "/Users/andy/anaconda/lib/python3.6/site-packages/ipykernel/__main__.py:2: FutureWarning: convert_objects is deprecated.  Use the data-type specific converters pd.to_datetime, pd.to_timedelta and pd.to_numeric.\n",
      "  from ipykernel import kernelapp as app\n",
      "/Users/andy/anaconda/lib/python3.6/site-packages/ipykernel/__main__.py:17: FutureWarning: convert_objects is deprecated.  Use the data-type specific converters pd.to_datetime, pd.to_timedelta and pd.to_numeric.\n"
     ]
    }
   ],
   "source": [
    "author = read_content['作者']\n",
    "time = read_content['時間'].convert_objects(convert_numeric = True)\n",
    "mix = list(zip(author,time))\n",
    "\n",
    "# 'isaki1987 (N/A)',例外會error\n",
    "user = ['kid3875215 (銘哥)','angel86015 (小槑)','Astragali (Soldier A)','z881331 (絨毛雞)','s00azure (- 班長 -)','meatkai (凱)','sea212 (sea212)','DavidJam (平安又有錢才是福)','pinpo (孤獨患者)','DavidJam (平安是福)','lickmebaby (Rebirth)','ezk (蒲葵貓)','epoch3004 (木字旁)','yehz (葉子)','fervorya (一丄上止正)','viable (viable)','p1026 (豬)','gossiplarry (賴瑞)','zeze (籠中鳥)','Llingjing (冷劍塵)']\n",
    "\n",
    "for username in user:\n",
    "\n",
    "    time2 = []\n",
    "    for k in mix:\n",
    "        if k[0] == username:\n",
    "            time2.append(k[1])\n",
    "        else:\n",
    "            pass\n",
    "\n",
    "    read_content['時間'] = read_content['時間'].convert_objects(convert_numeric=True)\n",
    "    z = []\n",
    "    for ptt_datatime in time2:\n",
    "        if ptt_datatime[8] == ' ':\n",
    "            ptt_split_list = ptt_datatime.split(\" \")\n",
    "            ptt_year = ptt_split_list[-1]\n",
    "            ptt_month = ptt_split_list[1]\n",
    "            ptt_date = ptt_split_list[3]\n",
    "            ptt_time = ptt_split_list[4]\n",
    "            format_ptt_datetime = ptt_year+\"-\"+ptt_month+\"-\"+ptt_date+\" \"+ptt_time\n",
    "            z.append(format_ptt_datetime)\n",
    "        else:\n",
    "            ptt_split_list = ptt_datatime.split(\" \")\n",
    "            ptt_year = ptt_split_list[-1]\n",
    "            ptt_month = ptt_split_list[1]\n",
    "            ptt_date = ptt_split_list[2]\n",
    "            ptt_time = ptt_split_list[3]\n",
    "            format_ptt_datetime = ptt_year+\"-\"+ptt_month+\"-\"+ptt_date+\" \"+ptt_time\n",
    "            z.append(format_ptt_datetime)\n",
    "    z1 = z\n",
    "    z2 = z[1:]\n",
    "    z3 = list(zip(z1,z2))\n",
    "    \n",
    "    hours = []\n",
    "    user_time = []\n",
    "    for item in z3:\n",
    "    #     print(item[11:17])\n",
    "        d1 = datetime.datetime.strptime(item[0],\"%Y-%b-%d %H:%M:%S\") \n",
    "        d2 = datetime.datetime.strptime(item[1],\"%Y-%b-%d %H:%M:%S\")\n",
    "        diff = relativedelta(d1,d2)\n",
    "        user_time.append(\"相差 %d 年 %d 月 %d 天 %d 小時 %d 分鐘 %d 秒\" % (diff.years, diff.months, diff.days, diff.hours, diff.minutes, diff.seconds))\n",
    "        hours.append(diff.years*365 + diff.months*30 + diff.days)\n",
    "\n",
    "#   ---------------------------------存進excel---------------------------------------\n",
    "        \n",
    "    workbook = xlsxwriter.Workbook(username + '.xlsx')\n",
    "    worksheet = workbook.add_worksheet()\n",
    "    row=0\n",
    "    for each_cagetory in user_time:\n",
    "        worksheet.write(row, 0,each_cagetory)\n",
    "        row = row+1\n",
    "        \n",
    "#   ---------------------------------發文間隔圖表---------------------------------------\n",
    "\n",
    "    df = pd.DataFrame(np.array(hours).reshape(len(hours),1), columns = list(\"0\"))\n",
    "    df['0'] = df['0'].convert_objects(convert_numeric = True)\n",
    "    df['0'] = pd.cut(df['0'], [0, 1, 2, 5, 10, 30])\n",
    "    hourcount = df['0'].value_counts(sort=False)\n",
    "    hourcount.plot(kind='bar',color=['red','yellow','blue','green','black'])\n",
    "    plt.xlabel('發文間隔天數',fontproperties=font)\n",
    "    plt.ylabel('間隔次數',fontproperties=font)\n",
    "    plt.title(username,fontproperties=font)\n",
    "#     plt.savefig(filename=username + \".png\",format=\"png\")\n",
    "    plt.show()\n",
    "    # user_time"
   ]
  },
  {
   "cell_type": "code",
   "execution_count": null,
   "metadata": {
    "collapsed": true
   },
   "outputs": [],
   "source": []
  }
 ],
 "metadata": {
  "kernelspec": {
   "display_name": "Python 3",
   "language": "python",
   "name": "python3"
  },
  "language_info": {
   "codemirror_mode": {
    "name": "ipython",
    "version": 3
   },
   "file_extension": ".py",
   "mimetype": "text/x-python",
   "name": "python",
   "nbconvert_exporter": "python",
   "pygments_lexer": "ipython3",
   "version": "3.6.0"
  }
 },
 "nbformat": 4,
 "nbformat_minor": 2
}
