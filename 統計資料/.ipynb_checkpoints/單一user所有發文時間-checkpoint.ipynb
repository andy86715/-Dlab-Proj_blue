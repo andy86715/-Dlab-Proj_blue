{
 "cells": [
  {
   "cell_type": "code",
   "execution_count": 1,
   "metadata": {
    "collapsed": true
   },
   "outputs": [],
   "source": [
    "from lxml import etree\n",
    "import requests as res"
   ]
  },
  {
   "cell_type": "code",
   "execution_count": 99,
   "metadata": {
    "collapsed": false,
    "scrolled": false
   },
   "outputs": [],
   "source": [
    "time = []\n",
    "title = []\n",
    "url='http://www.ucptt.com/author/gossiplarry/1'\n",
    "page = etree.HTML((res.get(url)).text)\n",
    "title.append(page.xpath('//a[@class=\"list-group-item\"]/text()'))\n",
    "time.append(page.xpath('//span[@class=\"pull-right\"]/text()'))\n",
    "\n",
    "while 'Older →' == ''.join(page.xpath('/html/body/div[3]/div/ul/li[@class=\"next \"]/a/text()')):\n",
    "    url= page.xpath('/html/body/div[3]/div/ul/li/a/@href')\n",
    "    if len(url) > 1:\n",
    "        url=url[1]\n",
    "    \n",
    "    url = ''.join(url)\n",
    "#     print(url)\n",
    "    page = etree.HTML((res.get('http://www.ucptt.com/'+url)).text)\n",
    "    title.append(page.xpath('//a[@class=\"list-group-item\"]/text()'))\n",
    "    time.append(page.xpath('//span[@class=\"pull-right\"]/text()'))\n",
    "else:\n",
    "    pass"
   ]
  },
  {
   "cell_type": "code",
   "execution_count": 94,
   "metadata": {
    "collapsed": false,
    "scrolled": false
   },
   "outputs": [],
   "source": [
    "year = []\n",
    "time1 = []\n",
    "for i in time:\n",
    "    for k in i:\n",
    "        year.append(str(k).split(\" \")[0].split(\"-\")[0])\n",
    "        time1.append(int(str(k).split(\" \")[0].split(\"-\")[1])+int(str(k).split(\" \")[0].split(\"-\")[2])/31)"
   ]
  },
  {
   "cell_type": "code",
   "execution_count": 95,
   "metadata": {
    "collapsed": false
   },
   "outputs": [],
   "source": [
    "title1 = []\n",
    "for i in title:\n",
    "    for k in i:\n",
    "        title1.append(str(k).split(\"[\")[1].split(\"]\")[0])"
   ]
  },
  {
   "cell_type": "code",
   "execution_count": 96,
   "metadata": {
    "collapsed": false
   },
   "outputs": [],
   "source": [
    "total = list(zip(title1,year,time1))"
   ]
  },
  {
   "cell_type": "code",
   "execution_count": 97,
   "metadata": {
    "collapsed": false
   },
   "outputs": [],
   "source": [
    "total2 = []\n",
    "for i in total:\n",
    "    if i[0]=='prozac':\n",
    "        pass\n",
    "    else:\n",
    "        total2.append(i)"
   ]
  },
  {
   "cell_type": "code",
   "execution_count": 98,
   "metadata": {
    "collapsed": false
   },
   "outputs": [
    {
     "name": "stdout",
     "output_type": "stream",
     "text": [
      "[11.32258064516129, 11.193548387096774, 10.806451612903226, 10.774193548387096, 9.612903225806452, 9.612903225806452, 7.903225806451613, 7.548387096774194, 7.548387096774194, 7.516129032258064, 6.483870967741936, 6.354838709677419, 6.32258064516129, 6.258064516129032, 5.612903225806452, 5.580645161290323, 5.516129032258064, 5.354838709677419, 5.129032258064516, 4.870967741935484, 4.741935483870968, 4.483870967741936, 4.290322580645161, 3.838709677419355, 3.806451612903226, 3.806451612903226, 3.032258064516129, 2.903225806451613, 1.1935483870967742]\n"
     ]
    }
   ],
   "source": [
    "a=[]\n",
    "for i in total2:\n",
    "    if i[1] == \"2014\":\n",
    "        a.append(i[2])\n",
    "    else:\n",
    "        pass\n",
    "print(a)"
   ]
  }
 ],
 "metadata": {
  "kernelspec": {
   "display_name": "Python 3",
   "language": "python",
   "name": "python3"
  },
  "language_info": {
   "codemirror_mode": {
    "name": "ipython",
    "version": 3
   },
   "file_extension": ".py",
   "mimetype": "text/x-python",
   "name": "python",
   "nbconvert_exporter": "python",
   "pygments_lexer": "ipython3",
   "version": "3.6.0"
  }
 },
 "nbformat": 4,
 "nbformat_minor": 2
}
