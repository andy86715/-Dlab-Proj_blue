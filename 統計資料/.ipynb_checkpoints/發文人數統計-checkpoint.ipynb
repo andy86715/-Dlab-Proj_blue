{
 "cells": [
  {
   "cell_type": "code",
   "execution_count": 1,
   "metadata": {
    "collapsed": true
   },
   "outputs": [],
   "source": [
    "import openpyxl as px\n",
    "import numpy as np\n",
    "from lxml import etree\n",
    "import requests\n",
    "import pandas as pd\n",
    "read_content = pd.read_excel('亂數表.xlsx',sheetname=\"全部文章\")\n",
    "# sheetname代表哪一頁excel"
   ]
  },
  {
   "cell_type": "code",
   "execution_count": 14,
   "metadata": {
    "collapsed": false
   },
   "outputs": [
    {
     "name": "stdout",
     "output_type": "stream",
     "text": [
      "383\n",
      "193\n"
     ]
    }
   ],
   "source": [
    "a = []\n",
    "for i in read_content['作者'].value_counts():\n",
    "# a.append(read_content['作者'].value_counts())\n",
    "    a.append(i)\n",
    "print(len(a))\n",
    "b = []\n",
    "for k in a:\n",
    "    if k == 1:\n",
    "        b.append(k)\n",
    "print(len(b))"
   ]
  },
  {
   "cell_type": "code",
   "execution_count": null,
   "metadata": {
    "collapsed": true
   },
   "outputs": [],
   "source": []
  }
 ],
 "metadata": {
  "kernelspec": {
   "display_name": "Python 3",
   "language": "python",
   "name": "python3"
  },
  "language_info": {
   "codemirror_mode": {
    "name": "ipython",
    "version": 3
   },
   "file_extension": ".py",
   "mimetype": "text/x-python",
   "name": "python",
   "nbconvert_exporter": "python",
   "pygments_lexer": "ipython3",
   "version": "3.6.0"
  }
 },
 "nbformat": 4,
 "nbformat_minor": 2
}
