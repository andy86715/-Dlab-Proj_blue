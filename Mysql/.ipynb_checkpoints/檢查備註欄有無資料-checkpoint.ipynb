{
 "cells": [
  {
   "cell_type": "code",
   "execution_count": 1,
   "metadata": {
    "collapsed": true
   },
   "outputs": [],
   "source": [
    "import pymysql.cursors\n",
    "import xlsxwriter"
   ]
  },
  {
   "cell_type": "code",
   "execution_count": 2,
   "metadata": {
    "collapsed": true
   },
   "outputs": [],
   "source": [
    "db = pymysql.connect(host=\"localhost\", user=\"root\", password=\"\", db=\"proj_blue_server\",charset='utf8mb4',port = 3306)\n",
    "cursor = db.cursor()"
   ]
  },
  {
   "cell_type": "code",
   "execution_count": 9,
   "metadata": {
    "collapsed": false
   },
   "outputs": [
    {
     "name": "stdout",
     "output_type": "stream",
     "text": [
      "(1, '沒被疼過')\n",
      "(5, '下雨')\n",
      "(6, '脆弱的心靈')\n",
      "(16, '全英文')\n",
      "(58, '細語呢喃')\n",
      "(61, 'overdose')\n",
      "(64, 'QQ')\n",
      "(81, '自傷行為:拿美工刀割自己')\n",
      "(91, '沒成現憂鬱關鍵字，但感受到無奈之感')\n",
      "(27, '有點無法理解他的情緒 而且是因為跑步的關係而想死的話 其憂鬱程度？')\n",
      "(98, '救我 需要知道還有人在')\n",
      "(100, '能有人聽我說話')\n",
      "(134, '好像已刪文')\n",
      "(186, '最後一段需要注意：有人願意陪著我嘛…')\n",
      "(188, '反胃 想吐')\n",
      "(203, '諮商師')\n",
      "(205, '醫生 諮商師 藥')\n",
      "(212, '404 - Not Found.好像已刪文？')\n",
      "(216, '此篇在描述另一半')\n"
     ]
    }
   ],
   "source": [
    "cursor.execute(\"SELECT art_newID,notes FROM emotion\")\n",
    "\n",
    "for notes in cursor:\n",
    "    if notes[1] == \"\":\n",
    "        pass\n",
    "    else:\n",
    "        print(notes)\n",
    "        \n",
    "cursor.execute(\"SELECT art_newID,notes FROM emotion_2\")\n",
    "\n",
    "for notes in cursor:\n",
    "    if notes[1] == \"\":\n",
    "        pass\n",
    "    else:\n",
    "        print(notes)\n"
   ]
  }
 ],
 "metadata": {
  "kernelspec": {
   "display_name": "Python 3",
   "language": "python",
   "name": "python3"
  },
  "language_info": {
   "codemirror_mode": {
    "name": "ipython",
    "version": 3
   },
   "file_extension": ".py",
   "mimetype": "text/x-python",
   "name": "python",
   "nbconvert_exporter": "python",
   "pygments_lexer": "ipython3",
   "version": "3.6.0"
  }
 },
 "nbformat": 4,
 "nbformat_minor": 2
}
