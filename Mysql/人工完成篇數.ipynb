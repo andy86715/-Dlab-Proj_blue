{
 "cells": [
  {
   "cell_type": "code",
   "execution_count": 2,
   "metadata": {
    "collapsed": true
   },
   "outputs": [],
   "source": [
    "import pymysql.cursors\n",
    "import xlsxwriter"
   ]
  },
  {
   "cell_type": "code",
   "execution_count": 3,
   "metadata": {
    "collapsed": true
   },
   "outputs": [],
   "source": [
    "db = pymysql.connect(host=\"localhost\", user=\"root\", password=\"\", db=\"proj_blue_server\",charset='utf8mb4',port = 3306)\n",
    "cursor = db.cursor()"
   ]
  },
  {
   "cell_type": "code",
   "execution_count": 7,
   "metadata": {
    "collapsed": true
   },
   "outputs": [],
   "source": [
    "workbook = xlsxwriter.Workbook('complete.xlsx')\n",
    "worksheet = workbook.add_worksheet()\n",
    "\n",
    "e1 = []\n",
    "e2 = []\n",
    "\n",
    "cursor.execute(\"SELECT art_newID FROM emotion\")\n",
    "for row in cursor:\n",
    "    for row2 in row:\n",
    "        e1.append(row2)\n",
    "\n",
    "cursor.execute(\"SELECT art_newID FROM emotion_2\")\n",
    "for row in cursor:\n",
    "    for row2 in row:\n",
    "        e2.append(row2)\n",
    "        \n",
    "row=1\n",
    "worksheet.write(0, 0,\"1234\")\n",
    "for each_cagetory in e1:\n",
    "    worksheet.write(row, 0,each_cagetory)\n",
    "    row = row+1\n",
    "    \n",
    "row=1\n",
    "worksheet.write(0, 1,\"5678\")\n",
    "for each_cagetory in e2:\n",
    "    worksheet.write(row, 1,each_cagetory)\n",
    "    row = row+1"
   ]
  }
 ],
 "metadata": {
  "kernelspec": {
   "display_name": "Python 3",
   "language": "python",
   "name": "python3"
  },
  "language_info": {
   "codemirror_mode": {
    "name": "ipython",
    "version": 3
   },
   "file_extension": ".py",
   "mimetype": "text/x-python",
   "name": "python",
   "nbconvert_exporter": "python",
   "pygments_lexer": "ipython3",
   "version": "3.6.0"
  }
 },
 "nbformat": 4,
 "nbformat_minor": 2
}
