{
 "cells": [
  {
   "cell_type": "code",
   "execution_count": 9,
   "metadata": {
    "collapsed": false
   },
   "outputs": [
    {
     "name": "stderr",
     "output_type": "stream",
     "text": [
      "C:\\Users\\弘林\\Anaconda3\\lib\\site-packages\\bs4\\__init__.py:181: UserWarning: No parser was explicitly specified, so I'm using the best available HTML parser for this system (\"lxml\"). This usually isn't a problem, but if you run this code on another system, or in a different virtual environment, it may use a different parser and behave differently.\n",
      "\n",
      "The code that caused this warning is on line 184 of the file C:\\Users\\弘林\\Anaconda3\\lib\\runpy.py. To get rid of this warning, change code that looks like this:\n",
      "\n",
      " BeautifulSoup([your markup])\n",
      "\n",
      "to this:\n",
      "\n",
      " BeautifulSoup([your markup], \"lxml\")\n",
      "\n",
      "  markup_type=markup_type))\n"
     ]
    },
    {
     "name": "stdout",
     "output_type": "stream",
     "text": [
      "['[', '] ', '']\n",
      "['[', '] ', '']\n",
      "['[', '] ', ' ']\n",
      "['[', '] ', '/', '']\n",
      "['[', ']']\n",
      "['[', '] ', '，', '']\n",
      "['[', ']', '']\n",
      "['[', '] ', '？']\n",
      "['', ': [', '] ', '？']\n",
      "['[', '] ', '']\n",
      "['[', '] ', '']\n",
      "['[', '] ', '']\n",
      "['[', '] ', '']\n",
      "['[', ']', '(', ') ']\n",
      "['[', '] ', '']\n",
      "['[', '] ', '']\n",
      "['[', '] ', '']\n",
      "['[', '] (', '']\n",
      "['[', '] ', '']\n",
      "['[', '] ', '']\n"
     ]
    }
   ],
   "source": [
    "import requests\n",
    "from bs4 import BeautifulSoup\n",
    "import re\n",
    "res = requests.get(\"https://www.ptt.cc/bbs/prozac/index1665.html\")\n",
    "soup = BeautifulSoup(res.text)\n",
    "c = []\n",
    "for website in soup.select(\".r-ent\"):\n",
    "    try:    \n",
    "        res2 = requests.get('https://www.ptt.cc/'+website(\"a\")[0]['href'])\n",
    "        soup2 = BeautifulSoup(res2.text)\n",
    "        if \"資訊\" in (soup2.select(\".article-meta-value\")[2].text):\n",
    "            pass\n",
    "        else:\n",
    "            c = soup2.select(\".article-meta-tag\")[2].text,\":\",soup2.select(\".article-meta-value\")[2].text\n",
    "            print(re.split(\"\\w+\",soup2.select(\".article-meta-value\")[2].text))\n",
    "            \n",
    "    except:\n",
    "        pass"
   ]
  },
  {
   "cell_type": "code",
   "execution_count": 20,
   "metadata": {
    "collapsed": false
   },
   "outputs": [
    {
     "name": "stderr",
     "output_type": "stream",
     "text": [
      "C:\\Users\\弘林\\Anaconda3\\lib\\site-packages\\bs4\\__init__.py:181: UserWarning: No parser was explicitly specified, so I'm using the best available HTML parser for this system (\"lxml\"). This usually isn't a problem, but if you run this code on another system, or in a different virtual environment, it may use a different parser and behave differently.\n",
      "\n",
      "The code that caused this warning is on line 184 of the file C:\\Users\\弘林\\Anaconda3\\lib\\runpy.py. To get rid of this warning, change code that looks like this:\n",
      "\n",
      " BeautifulSoup([your markup])\n",
      "\n",
      "to this:\n",
      "\n",
      " BeautifulSoup([your markup], \"lxml\")\n",
      "\n",
      "  markup_type=markup_type))\n"
     ]
    },
    {
     "name": "stdout",
     "output_type": "stream",
     "text": [
      "[陰天]\n",
      " 折磨人的找工作之旅\n",
      "[陰天]\n",
      " 好難過好難過好難過\n",
      "[陰天]\n",
      " 走投無路 \n",
      "[閒聊]\n",
      " 雷/忍不住\n",
      "[陰天]\n",
      "\n",
      "[陰天]\n",
      " 福音戰士與會計師，情感的投射\n",
      "[陰天]\n",
      "存在的意義\n",
      "[問題]\n",
      " 怎麼克制瘋狂購物？\n",
      "Re: [問題]\n",
      " 怎麼克制瘋狂購物？\n",
      "[陰天]\n",
      " 一直躲\n",
      "[晴天]\n",
      " 愛睏\n",
      "[陰天]\n",
      " 我做錯了什麼\n",
      "[晴天]\n",
      " 小太陽\n",
      "[陰天]\n",
      "昨天的我不太好(雷) \n",
      "[陰天]\n",
      " 朋友\n",
      "[陰天]\n",
      " 好累\n",
      "[陰天]\n",
      " 停止與開始\n",
      "[陰天]\n",
      " (雷\n",
      "[陰天]\n",
      " 不知道要不要搬家\n"
     ]
    }
   ],
   "source": [
    "import requests\n",
    "from bs4 import BeautifulSoup\n",
    "import re\n",
    "res = requests.get(\"https://www.ptt.cc/bbs/prozac/index1665.html\")\n",
    "soup = BeautifulSoup(res.text)\n",
    "# c = []\n",
    "for website in soup.select(\".r-ent\"):\n",
    "    try:    \n",
    "        res2 = requests.get('https://www.ptt.cc/'+website(\"a\")[0]['href'])\n",
    "        soup2 = BeautifulSoup(res2.text)\n",
    "        if \"資訊\" in (soup2.select(\".article-meta-value\")[2].text):\n",
    "            pass\n",
    "        else:\n",
    "            c = soup2.select(\".article-meta-value\")[2].text\n",
    "            d = c.split(\"]\")\n",
    "            print(d[0]+\"]\")\n",
    "            print(d[1])\n",
    "#             print(re.split(\"\\w+\",soup2.select(\".article-meta-value\")[2].text))\n",
    "            \n",
    "    except:\n",
    "        pass"
   ]
  },
  {
   "cell_type": "code",
   "execution_count": null,
   "metadata": {
    "collapsed": true
   },
   "outputs": [],
   "source": []
  }
 ],
 "metadata": {
  "anaconda-cloud": {},
  "kernelspec": {
   "display_name": "Python [default]",
   "language": "python",
   "name": "python3"
  },
  "language_info": {
   "codemirror_mode": {
    "name": "ipython",
    "version": 3
   },
   "file_extension": ".py",
   "mimetype": "text/x-python",
   "name": "python",
   "nbconvert_exporter": "python",
   "pygments_lexer": "ipython3",
   "version": "3.5.2"
  }
 },
 "nbformat": 4,
 "nbformat_minor": 1
}
