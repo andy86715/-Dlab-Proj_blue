{
 "cells": [
  {
   "cell_type": "code",
   "execution_count": 1,
   "metadata": {
    "collapsed": false
   },
   "outputs": [
    {
     "name": "stderr",
     "output_type": "stream",
     "text": [
      "C:\\Users\\弘林\\Anaconda3\\lib\\site-packages\\bs4\\__init__.py:181: UserWarning: No parser was explicitly specified, so I'm using the best available HTML parser for this system (\"lxml\"). This usually isn't a problem, but if you run this code on another system, or in a different virtual environment, it may use a different parser and behave differently.\n",
      "\n",
      "The code that caused this warning is on line 184 of the file C:\\Users\\弘林\\Anaconda3\\lib\\runpy.py. To get rid of this warning, change code that looks like this:\n",
      "\n",
      " BeautifulSoup([your markup])\n",
      "\n",
      "to this:\n",
      "\n",
      " BeautifulSoup([your markup], \"lxml\")\n",
      "\n",
      "  markup_type=markup_type))\n"
     ]
    },
    {
     "name": "stdout",
     "output_type": "stream",
     "text": [
      "作者 : Yinsin (少女心大叔)\n",
      "作者 : glitter41 (41)\n",
      "作者 : ezk (蒲葵貓)\n",
      "作者 : lydiahsieh (Lydia)\n",
      "作者 : imyuya (夜灰)\n",
      "作者 : DavidJam (平安又有錢才是福)\n",
      "作者 : wearesad5566 (我難過)\n",
      "作者 : jk529300 (小花一朵朵)\n",
      "作者 : qqqlisa (兔子蹦蹦跳跳)\n",
      "作者 : lyviasun (:))\n",
      "作者 : llltwilight (llltwilight)\n",
      "作者 : wanchieh (披著狼皮的羊)\n",
      "作者 : grimmm51764 (四葉)\n",
      "作者 : wwweer267 (Boy)\n",
      "作者 : chanel92 (小香)\n",
      "作者 : flying1618 (六年)\n",
      "作者 : ej01019 (真正)\n"
     ]
    }
   ],
   "source": [
    "import requests\n",
    "from bs4 import BeautifulSoup\n",
    "res = requests.get(\"https://www.ptt.cc/bbs/prozac/index1659.html\")\n",
    "soup = BeautifulSoup(res.text)\n",
    "for website in soup.select(\".r-ent\"):\n",
    "    try:    \n",
    "        res2 = requests.get('https://www.ptt.cc/'+website(\"a\")[0]['href'])\n",
    "        soup2 = BeautifulSoup(res2.text)\n",
    "        print(soup2.select(\".article-meta-tag\")[0].text,\":\",soup2.select(\".article-meta-value\")[0].text)\n",
    "    except:\n",
    "        pass"
   ]
  }
 ],
 "metadata": {
  "anaconda-cloud": {},
  "kernelspec": {
   "display_name": "Python [default]",
   "language": "python",
   "name": "python3"
  },
  "language_info": {
   "codemirror_mode": {
    "name": "ipython",
    "version": 3
   },
   "file_extension": ".py",
   "mimetype": "text/x-python",
   "name": "python",
   "nbconvert_exporter": "python",
   "pygments_lexer": "ipython3",
   "version": "3.5.2"
  }
 },
 "nbformat": 4,
 "nbformat_minor": 1
}
