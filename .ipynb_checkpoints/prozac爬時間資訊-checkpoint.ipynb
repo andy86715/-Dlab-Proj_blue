{
 "cells": [
  {
   "cell_type": "code",
   "execution_count": 1,
   "metadata": {
    "collapsed": false
   },
   "outputs": [
    {
     "name": "stderr",
     "output_type": "stream",
     "text": [
      "C:\\Users\\弘林\\Anaconda3\\lib\\site-packages\\bs4\\__init__.py:181: UserWarning: No parser was explicitly specified, so I'm using the best available HTML parser for this system (\"lxml\"). This usually isn't a problem, but if you run this code on another system, or in a different virtual environment, it may use a different parser and behave differently.\n",
      "\n",
      "The code that caused this warning is on line 184 of the file C:\\Users\\弘林\\Anaconda3\\lib\\runpy.py. To get rid of this warning, change code that looks like this:\n",
      "\n",
      " BeautifulSoup([your markup])\n",
      "\n",
      "to this:\n",
      "\n",
      " BeautifulSoup([your markup], \"lxml\")\n",
      "\n",
      "  markup_type=markup_type))\n"
     ]
    },
    {
     "name": "stdout",
     "output_type": "stream",
     "text": [
      "時間 : Sat Dec 10 11:26:19 2016\n",
      "時間 : Sat Dec 10 12:07:19 2016\n",
      "時間 : Sat Dec 10 13:42:32 2016\n",
      "時間 : Sat Dec 10 13:55:29 2016\n",
      "時間 : Sat Dec 10 16:57:33 2016\n",
      "時間 : Sat Dec 10 17:05:23 2016\n",
      "時間 : Sat Dec 10 18:09:07 2016\n",
      "時間 : Sat Dec 10 20:11:28 2016\n",
      "時間 : Sat Dec 10 21:15:30 2016\n",
      "時間 : Sat Dec 10 23:23:57 2016\n",
      "時間 : Sat Dec 10 23:36:22 2016\n",
      "時間 : Sun Dec 11 00:59:36 2016\n",
      "時間 : Sun Dec 11 01:49:59 2016\n",
      "時間 : Sun Dec 11 03:37:51 2016\n",
      "時間 : Sun Dec 11 04:51:08 2016\n",
      "時間 : Sun Dec 11 10:08:29 2016\n",
      "時間 : Sun Dec 11 13:12:01 2016\n"
     ]
    }
   ],
   "source": [
    "import requests\n",
    "from bs4 import BeautifulSoup\n",
    "res = requests.get(\"https://www.ptt.cc/bbs/prozac/index1659.html\")\n",
    "soup = BeautifulSoup(res.text)\n",
    "for website in soup.select(\".r-ent\"):\n",
    "    try:    \n",
    "        res2 = requests.get('https://www.ptt.cc/'+website(\"a\")[0]['href'])\n",
    "        soup2 = BeautifulSoup(res2.text)\n",
    "        print(soup2.select(\".article-meta-tag\")[3].text,\":\",soup2.select(\".article-meta-value\")[3].text)\n",
    "    except:\n",
    "        pass"
   ]
  }
 ],
 "metadata": {
  "anaconda-cloud": {},
  "kernelspec": {
   "display_name": "Python [default]",
   "language": "python",
   "name": "python3"
  },
  "language_info": {
   "codemirror_mode": {
    "name": "ipython",
    "version": 3
   },
   "file_extension": ".py",
   "mimetype": "text/x-python",
   "name": "python",
   "nbconvert_exporter": "python",
   "pygments_lexer": "ipython3",
   "version": "3.5.2"
  }
 },
 "nbformat": 4,
 "nbformat_minor": 1
}
