{
 "cells": [
  {
   "cell_type": "code",
   "execution_count": 1,
   "metadata": {
    "collapsed": false
   },
   "outputs": [
    {
     "name": "stderr",
     "output_type": "stream",
     "text": [
      "C:\\Users\\弘林\\Anaconda3\\lib\\site-packages\\bs4\\__init__.py:181: UserWarning: No parser was explicitly specified, so I'm using the best available HTML parser for this system (\"lxml\"). This usually isn't a problem, but if you run this code on another system, or in a different virtual environment, it may use a different parser and behave differently.\n",
      "\n",
      "The code that caused this warning is on line 184 of the file C:\\Users\\弘林\\Anaconda3\\lib\\runpy.py. To get rid of this warning, change code that looks like this:\n",
      "\n",
      " BeautifulSoup([your markup])\n",
      "\n",
      "to this:\n",
      "\n",
      " BeautifulSoup([your markup], \"lxml\")\n",
      "\n",
      "  markup_type=markup_type))\n"
     ]
    },
    {
     "name": "stdout",
     "output_type": "stream",
     "text": [
      "標題 : [陰天] e04真的\n",
      "標題 : [閒聊]  還醒著的請舉手  -.-η\n",
      "標題 : [陰天]\n",
      "標題 : [陰天] 哎\n",
      "標題 : [陰天] 作決定\n",
      "標題 : [閒聊]關於很久以前憂鬱症奇摩家族匿名留言社團\n",
      "標題 : [陰天] 短時間內作決定\n",
      "標題 : [晴天] 這是退化嗎?\n",
      "標題 : [晴天] 跑17.19km 在科工館\n",
      "標題 : [晴天] 跑15.81km 在澄清湖\n",
      "標題 : [閒聊] 擺脫焦慮的3個練習！25個小方法自我抽離\n",
      "標題 : [陰天] showdown\n",
      "標題 : [陰天] 心理治療\n",
      "標題 : [陰天] 那好像都不是我想要的\n",
      "標題 : [閒聊] 聖誕禮物\n",
      "標題 : [晴天] 微弱的陽光\n",
      "標題 : [陰天]只能哭……\n",
      "標題 : [陰天] 諮商室裡的迴光返照\n",
      "標題 : [陰天] the F words(雷\n"
     ]
    }
   ],
   "source": [
    "import requests\n",
    "from bs4 import BeautifulSoup\n",
    "res = requests.get(\"https://www.ptt.cc/bbs/prozac/index1657.html\")\n",
    "soup = BeautifulSoup(res.text)\n",
    "\n",
    "for website in soup.select(\".r-ent\"):\n",
    "    try:    \n",
    "        res2 = requests.get('https://www.ptt.cc/'+website(\"a\")[0]['href'])\n",
    "        soup2 = BeautifulSoup(res2.text)\n",
    "        if \"資訊\" in (soup2.select(\".article-meta-value\")[2].text):\n",
    "            pass\n",
    "        else:\n",
    "            print(soup2.select(\".article-meta-tag\")[2].text,\":\",soup2.select(\".article-meta-value\")[2].text)\n",
    "    except:\n",
    "           pass"
   ]
  }
 ],
 "metadata": {
  "kernelspec": {
   "display_name": "Python [default]",
   "language": "python",
   "name": "python3"
  },
  "language_info": {
   "codemirror_mode": {
    "name": "ipython",
    "version": 3
   },
   "file_extension": ".py",
   "mimetype": "text/x-python",
   "name": "python",
   "nbconvert_exporter": "python",
   "pygments_lexer": "ipython3",
   "version": "3.5.2"
  }
 },
 "nbformat": 4,
 "nbformat_minor": 1
}
